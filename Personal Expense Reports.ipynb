{
 "cells": [
  {
   "cell_type": "markdown",
   "metadata": {
    "application/vnd.databricks.v1+cell": {
     "cellMetadata": {
      "byteLimit": 2048000,
      "rowLimit": 10000
     },
     "inputWidgets": {},
     "nuid": "8fa72b69-47df-465a-86f8-6674548592f5",
     "showTitle": false,
     "title": ""
    }
   },
   "source": [
    "> # Personal Expense Reports"
   ]
  },
  {
   "cell_type": "code",
   "execution_count": 2,
   "metadata": {
    "application/vnd.databricks.v1+cell": {
     "cellMetadata": {
      "byteLimit": 2048000,
      "rowLimit": 10000
     },
     "inputWidgets": {},
     "nuid": "99a8b675-16f3-42eb-bd8e-79c57764ac00",
     "showTitle": false,
     "title": ""
    }
   },
   "outputs": [],
   "source": [
    "from pyspark.sql.functions import *\n",
    "# import seaborn as sns\n",
    "import pandas as pd\n",
    "import numpy as np\n",
    "# import matplotlib.pyplot as plt"
   ]
  },
  {
   "cell_type": "code",
   "execution_count": 3,
   "metadata": {
    "application/vnd.databricks.v1+cell": {
     "cellMetadata": {
      "byteLimit": 2048000,
      "rowLimit": 10000
     },
     "inputWidgets": {},
     "nuid": "de57f2e7-0921-40be-a436-1ee43d67b503",
     "showTitle": false,
     "title": ""
    }
   },
   "outputs": [],
   "source": [
    "filename = 'axio_expense_report_01-01-2019_to_28-02-2023__.csv'\n",
    "path = '/mnt/raw/'\n",
    "filepath = path+filename"
   ]
  },
  {
   "cell_type": "code",
   "execution_count": 4,
   "metadata": {},
   "outputs": [],
   "source": [
    "from pyspark.sql import SparkSession"
   ]
  },
  {
   "cell_type": "code",
   "execution_count": 5,
   "metadata": {},
   "outputs": [],
   "source": [
    "spark = SparkSession.builder.appName('Practice').getOrCreate()"
   ]
  },
  {
   "cell_type": "code",
   "execution_count": 6,
   "metadata": {},
   "outputs": [
    {
     "data": {
      "text/html": [
       "<style>pre { white-space: pre !important; }</style>"
      ],
      "text/plain": [
       "<IPython.core.display.HTML object>"
      ]
     },
     "metadata": {},
     "output_type": "display_data"
    }
   ],
   "source": [
    "from IPython.core.display import HTML\n",
    "display(HTML(\"<style>pre { white-space: pre !important; }</style>\"))"
   ]
  },
  {
   "cell_type": "code",
   "execution_count": 19,
   "metadata": {
    "application/vnd.databricks.v1+cell": {
     "cellMetadata": {
      "byteLimit": 2048000,
      "rowLimit": 10000
     },
     "inputWidgets": {},
     "nuid": "be5710b8-60bf-4473-9713-27bd015cbe01",
     "showTitle": false,
     "title": ""
    }
   },
   "outputs": [
    {
     "name": "stdout",
     "output_type": "stream",
     "text": [
      "+----------+-------------------+--------------------+------+-----+--------------------+-------+------+----------------+--------+--------------------+\n",
      "|      DATE|               TIME|               PLACE|AMOUNT|DR/CR|             ACCOUNT|EXPENSE|INCOME|        CATEGORY|    TAGS|                NOTE|\n",
      "+----------+-------------------+--------------------+------+-----+--------------------+-------+------+----------------+--------+--------------------+\n",
      "|2021-06-13|2023-03-18 15:11:00|         NET BANKING|545000|   DR|          Axis  7057|     No|     -|        TRANSFER|    null|                null|\n",
      "|2022-10-30|2023-03-18 16:27:00|          RAZ*UPGRAD|173956|   DR|ICICI credit (MMT...|     No|     -|      \\U0001f4da|    null|                null|\n",
      "|2022-01-31|2023-03-18 14:32:00|             JAI SIR|168500|   CR|          Axis  7057|      -|    No|ACCOUNT TRANSFER|    null|                null|\n",
      "|2022-01-31|2023-03-18 13:36:00|         NET BANKING|168500|   DR|          ICICI  838|     No|     -|        TRANSFER|#Savings|       BIL*NEFT*0003|\n",
      "|2022-09-16|2023-03-18 07:08:00|              CREDIT|122960|   CR|          ICICI  838|      -|   Yes|          CREDIT|    null|IRM*USD1584.47@77...|\n",
      "|2022-08-24|2023-03-18 19:38:00|        FISERV INDIA|121634|   CR|          Axis  7057|      -|   Yes| COMPANY BENFITS|    null|                null|\n",
      "|2021-06-01|2023-03-18 13:47:00|EASY/MAX LIFE INS...|104500|   DR|          Axis  7057|     No|     -|        TRANSFER|    null|                null|\n",
      "|2022-11-15|2023-03-18 10:54:00|             BLOCPAL|101765|   CR|          ICICI  838|      -|   Yes|          CREDIT|    null|SRS*8891SMT026754...|\n",
      "|2022-01-22|2023-03-18 14:52:00|           PARV SIRO|100000|   CR|          Axis  7057|      -|    No|ACCOUNT TRANSFER|    null|                null|\n",
      "|2021-07-17|2023-03-18 17:04:00|         NET BANKING|100000|   DR|          ICICI  838|     No|     -|        TRANSFER|    null|        TRF*MAX DIGI|\n",
      "+----------+-------------------+--------------------+------+-----+--------------------+-------+------+----------------+--------+--------------------+\n",
      "only showing top 10 rows\n",
      "\n"
     ]
    }
   ],
   "source": [
    "axio_raw = spark.read.csv(filename, header=True, inferSchema = True)\n",
    "axio_raw.show(10)"
   ]
  },
  {
   "cell_type": "code",
   "execution_count": 20,
   "metadata": {},
   "outputs": [
    {
     "data": {
      "text/plain": [
       "[('DATE', 'string'),\n",
       " ('TIME', 'timestamp'),\n",
       " ('PLACE', 'string'),\n",
       " ('AMOUNT', 'int'),\n",
       " ('DR/CR', 'string'),\n",
       " ('ACCOUNT', 'string'),\n",
       " ('EXPENSE', 'string'),\n",
       " ('INCOME', 'string'),\n",
       " ('CATEGORY', 'string'),\n",
       " ('TAGS', 'string'),\n",
       " ('NOTE', 'string')]"
      ]
     },
     "execution_count": 20,
     "metadata": {},
     "output_type": "execute_result"
    }
   ],
   "source": [
    "axio_raw.dtypes"
   ]
  },
  {
   "cell_type": "code",
   "execution_count": 21,
   "metadata": {},
   "outputs": [
    {
     "name": "stdout",
     "output_type": "stream",
     "text": [
      "+----------+--------+--------------------+------+-----+--------------------+-------+------+----------------+--------+--------------------+-------------------+\n",
      "|      DATE|    TIME|               PLACE|AMOUNT|DR/CR|             ACCOUNT|EXPENSE|INCOME|        CATEGORY|    TAGS|                NOTE|          TIMESTAMP|\n",
      "+----------+--------+--------------------+------+-----+--------------------+-------+------+----------------+--------+--------------------+-------------------+\n",
      "|2021-06-13|15:11:00|         NET BANKING|545000|   DR|          Axis  7057|     No|     -|        TRANSFER|    null|                null|2021-06-13 15:11:00|\n",
      "|2022-10-30|16:27:00|          RAZ*UPGRAD|173956|   DR|ICICI credit (MMT...|     No|     -|      \\U0001f4da|    null|                null|2022-10-30 16:27:00|\n",
      "|2022-01-31|14:32:00|             JAI SIR|168500|   CR|          Axis  7057|      -|    No|ACCOUNT TRANSFER|    null|                null|2022-01-31 14:32:00|\n",
      "|2022-01-31|13:36:00|         NET BANKING|168500|   DR|          ICICI  838|     No|     -|        TRANSFER|#Savings|       BIL*NEFT*0003|2022-01-31 13:36:00|\n",
      "|2022-09-16|07:08:00|              CREDIT|122960|   CR|          ICICI  838|      -|   Yes|          CREDIT|    null|IRM*USD1584.47@77...|2022-09-16 07:08:00|\n",
      "|2022-08-24|19:38:00|        FISERV INDIA|121634|   CR|          Axis  7057|      -|   Yes| COMPANY BENFITS|    null|                null|2022-08-24 19:38:00|\n",
      "|2021-06-01|13:47:00|EASY/MAX LIFE INS...|104500|   DR|          Axis  7057|     No|     -|        TRANSFER|    null|                null|2021-06-01 13:47:00|\n",
      "|2022-11-15|10:54:00|             BLOCPAL|101765|   CR|          ICICI  838|      -|   Yes|          CREDIT|    null|SRS*8891SMT026754...|2022-11-15 10:54:00|\n",
      "|2022-01-22|14:52:00|           PARV SIRO|100000|   CR|          Axis  7057|      -|    No|ACCOUNT TRANSFER|    null|                null|2022-01-22 14:52:00|\n",
      "|2021-07-17|17:04:00|         NET BANKING|100000|   DR|          ICICI  838|     No|     -|        TRANSFER|    null|        TRF*MAX DIGI|2021-07-17 17:04:00|\n",
      "+----------+--------+--------------------+------+-----+--------------------+-------+------+----------------+--------+--------------------+-------------------+\n",
      "only showing top 10 rows\n",
      "\n"
     ]
    }
   ],
   "source": [
    "from pyspark.sql.types import TimestampType\n",
    "\n",
    "axio_raw = axio_raw.withColumn('TIME', trim(axio_raw['TIME'].substr(11,9)))\n",
    "axio_raw = axio_raw.withColumn('TIMESTAMP', concat_ws('T', 'Date', 'Time'))\n",
    "axio_raw = axio_raw.withColumn('TIMESTAMP', col('Timestamp').cast(TimestampType()))\n",
    "axio_raw.show(10)\n"
   ]
  },
  {
   "cell_type": "code",
   "execution_count": 22,
   "metadata": {},
   "outputs": [],
   "source": [
    " axio_raw = axio_raw.withColumn('ACCOUNT TYPE', \\\n",
    "                    when(axio_raw.ACCOUNT.contains('7057'), 'BANK-AXIS-7057')\\\n",
    "                    .when( (axio_raw.ACCOUNT.contains('838')) \\\n",
    "                          | (axio_raw.ACCOUNT.contains('ICICI debit XXXX')), 'BANK-ICICI-6838')\\\n",
    "                    .when(axio_raw.ACCOUNT.contains('6891'), 'CREDIT-AXIS-6891')\\\n",
    "                    .when(axio_raw.ACCOUNT.contains('5001'), 'CREDIT-ICICI-5001')\\\n",
    "                    .when(axio_raw.ACCOUNT.contains('2232'), 'CREDIT-AXIS-2232')\\\n",
    "                    .when(axio_raw.ACCOUNT.contains('7008'), 'CREDIT-ICICI-7008')\\\n",
    "                    .when(axio_raw.ACCOUNT.contains('4135'), 'CREDIT-RBL-4135')\\\n",
    "                    .when( (axio_raw.ACCOUNT.contains('Paytm') & (axio_raw.ACCOUNT.contains('7775'))) \\\n",
    "                           | (axio_raw.ACCOUNT.contains('Paytm') & (axio_raw.ACCOUNT.contains('XXXX')) ), 'BANK-PAYTM-7775')\\\n",
    "                    .when(axio_raw.ACCOUNT.contains('4135'), 'CREDIT-RBL-4135')\\\n",
    "                    .when(axio_raw.ACCOUNT.contains('4636'), 'BANK-SBM-4636')\\\n",
    "                    .when(axio_raw.ACCOUNT.contains('CASH'), 'WALLET-WALLET-0000')\\\n",
    "                    .when(axio_raw.ACCOUNT.contains('Simpl'), 'CREDIT-SIMPL-8676')\\\n",
    "                    .when(axio_raw.ACCOUNT.contains('PAYTM Wallet'), 'WALLET-PAYTM-8676')\\\n",
    "                    .when(axio_raw.ACCOUNT.contains('Amazon'), 'WALLET-AMAZON-8676')\\\n",
    "                    .otherwise('null'))"
   ]
  },
  {
   "cell_type": "code",
   "execution_count": 23,
   "metadata": {},
   "outputs": [
    {
     "name": "stdout",
     "output_type": "stream",
     "text": [
      "+----------+--------+--------------------+------+-----+--------------------+-------+------+----------------+--------+--------------------+-------------------+-----------------+\n",
      "|      DATE|    TIME|               PLACE|AMOUNT|DR/CR|             ACCOUNT|EXPENSE|INCOME|        CATEGORY|    TAGS|                NOTE|          TIMESTAMP|     ACCOUNT TYPE|\n",
      "+----------+--------+--------------------+------+-----+--------------------+-------+------+----------------+--------+--------------------+-------------------+-----------------+\n",
      "|2021-06-13|15:11:00|         NET BANKING|545000|   DR|          Axis  7057|     No|     -|        TRANSFER|    null|                null|2021-06-13 15:11:00|   BANK-AXIS-7057|\n",
      "|2022-10-30|16:27:00|          RAZ*UPGRAD|173956|   DR|ICICI credit (MMT...|     No|     -|      \\U0001f4da|    null|                null|2022-10-30 16:27:00|CREDIT-ICICI-7008|\n",
      "|2022-01-31|14:32:00|             JAI SIR|168500|   CR|          Axis  7057|      -|    No|ACCOUNT TRANSFER|    null|                null|2022-01-31 14:32:00|   BANK-AXIS-7057|\n",
      "|2022-01-31|13:36:00|         NET BANKING|168500|   DR|          ICICI  838|     No|     -|        TRANSFER|#Savings|       BIL*NEFT*0003|2022-01-31 13:36:00|  BANK-ICICI-6838|\n",
      "|2022-09-16|07:08:00|              CREDIT|122960|   CR|          ICICI  838|      -|   Yes|          CREDIT|    null|IRM*USD1584.47@77...|2022-09-16 07:08:00|  BANK-ICICI-6838|\n",
      "|2022-08-24|19:38:00|        FISERV INDIA|121634|   CR|          Axis  7057|      -|   Yes| COMPANY BENFITS|    null|                null|2022-08-24 19:38:00|   BANK-AXIS-7057|\n",
      "|2021-06-01|13:47:00|EASY/MAX LIFE INS...|104500|   DR|          Axis  7057|     No|     -|        TRANSFER|    null|                null|2021-06-01 13:47:00|   BANK-AXIS-7057|\n",
      "|2022-11-15|10:54:00|             BLOCPAL|101765|   CR|          ICICI  838|      -|   Yes|          CREDIT|    null|SRS*8891SMT026754...|2022-11-15 10:54:00|  BANK-ICICI-6838|\n",
      "|2022-01-22|14:52:00|           PARV SIRO|100000|   CR|          Axis  7057|      -|    No|ACCOUNT TRANSFER|    null|                null|2022-01-22 14:52:00|   BANK-AXIS-7057|\n",
      "|2021-07-17|17:04:00|         NET BANKING|100000|   DR|          ICICI  838|     No|     -|        TRANSFER|    null|        TRF*MAX DIGI|2021-07-17 17:04:00|  BANK-ICICI-6838|\n",
      "|2022-01-22|14:31:00|         PARV SIROHI|100000|   DR|          ICICI  838|     No|     -|        TRANSFER|    null|                null|2022-01-22 14:31:00|  BANK-ICICI-6838|\n",
      "|2022-12-30|13:42:00|              CREDIT|100000|   CR|          ICICI  838|      -|    No|          CREDIT|    null|SRS*8891SMT031013...|2022-12-30 13:42:00|  BANK-ICICI-6838|\n",
      "|2023-02-03|13:51:00|              CREDIT|100000|   CR|          ICICI  838|      -|    No|          CREDIT|    null|SRS*8891SMT002512...|2023-02-03 13:51:00|  BANK-ICICI-6838|\n",
      "|2022-09-24|09:05:00|            FLIPKART| 77719|   DR|ICICI credit (MMT...|    Yes|     -|        SHOPPING| #Online|                null|2022-09-24 09:05:00|CREDIT-ICICI-7008|\n",
      "|2022-05-31|11:21:00|        FISERV INDIA| 64849|   CR|          ICICI  838|      -|   Yes|          SALARY|    null|                null|2022-05-31 11:21:00|  BANK-ICICI-6838|\n",
      "|2021-08-31|11:13:00|        FISERV INDIA| 64065|   CR|          ICICI  838|      -|   Yes|          SALARY|    null|                null|2021-08-31 11:13:00|  BANK-ICICI-6838|\n",
      "|2022-04-29|12:19:00|        FISERV INDIA| 56578|   CR|          ICICI  838|      -|   Yes|          SALARY|    null|                null|2022-04-29 12:19:00|  BANK-ICICI-6838|\n",
      "|2022-03-31|15:06:00|        FISERV INDIA| 55731|   CR|          ICICI  838|      -|   Yes|          SALARY|    null|                null|2022-03-31 15:06:00|  BANK-ICICI-6838|\n",
      "|2022-06-30|13:08:00|        FISERV INDIA| 55659|   CR|          ICICI  838|      -|   Yes|          SALARY|    null|                null|2022-06-30 13:08:00|  BANK-ICICI-6838|\n",
      "|2021-09-30|11:16:00|        FISERV INDIA| 54516|   CR|          ICICI  838|      -|   Yes|          SALARY|    null|                null|2021-09-30 11:16:00|  BANK-ICICI-6838|\n",
      "|2023-02-05|12:59:00|           CREDCLUB1| 54344|   DR|          ICICI  838|     No|     -|           BILLS|    null|                null|2023-02-05 12:59:00|  BANK-ICICI-6838|\n",
      "|2022-01-31|12:03:00|        FISERV INDIA| 52451|   CR|          ICICI  838|      -|   Yes|          SALARY|    null|                null|2022-01-31 12:03:00|  BANK-ICICI-6838|\n",
      "|2022-02-28|16:10:00|        FISERV INDIA| 52210|   CR|          ICICI  838|      -|   Yes|          SALARY|    null|                null|2022-02-28 16:10:00|  BANK-ICICI-6838|\n",
      "|2022-04-03|11:37:00|                CRED| 52137|   DR|          ICICI  838|     No|     -|           BILLS|    null|                null|2022-04-03 11:37:00|  BANK-ICICI-6838|\n",
      "|2022-10-31|13:28:00|              CREDIT| 52000|   CR|          ICICI  838|      -|    No|          CREDIT|    null|     CAM*41151HHR*CA|2022-10-31 13:28:00|  BANK-ICICI-6838|\n",
      "|2021-10-29|11:15:00|        FISERV INDIA| 51876|   CR|          ICICI  838|      -|   Yes|          SALARY|    null|                null|2021-10-29 11:15:00|  BANK-ICICI-6838|\n",
      "|2021-12-31|07:04:00|        FISERV INDIA| 51182|   CR|          ICICI  838|      -|   Yes|          SALARY|    null|                null|2021-12-31 07:04:00|  BANK-ICICI-6838|\n",
      "|2021-11-30|13:59:00|        FISERV INDIA| 50794|   CR|          ICICI  838|      -|   Yes|          SALARY|    null|                null|2021-11-30 13:59:00|  BANK-ICICI-6838|\n",
      "|2022-01-27|12:04:00|           JAI SIROH| 50000|   DR|          Axis  7057|     No|     -|        TRANSFER|    null|                null|2022-01-27 12:04:00|   BANK-AXIS-7057|\n",
      "|2022-01-27|12:04:00|          JAI SIROHI| 50000|   CR|          ICICI  838|      -|    No|ACCOUNT TRANSFER|    null|                null|2022-01-27 12:04:00|  BANK-ICICI-6838|\n",
      "+----------+--------+--------------------+------+-----+--------------------+-------+------+----------------+--------+--------------------+-------------------+-----------------+\n",
      "only showing top 30 rows\n",
      "\n"
     ]
    }
   ],
   "source": [
    "axio_raw.show(30)"
   ]
  },
  {
   "cell_type": "code",
   "execution_count": 24,
   "metadata": {
    "application/vnd.databricks.v1+cell": {
     "cellMetadata": {
      "byteLimit": 2048000,
      "rowLimit": 10000
     },
     "inputWidgets": {},
     "nuid": "7787e8cb-5a8a-44a5-8a2d-6eab4f5399a7",
     "showTitle": false,
     "title": ""
    }
   },
   "outputs": [
    {
     "data": {
      "text/plain": [
       "[('Timestamp', 'timestamp'),\n",
       " ('Account', 'string'),\n",
       " ('Amount', 'int'),\n",
       " ('DR_CR', 'string'),\n",
       " ('Category', 'string'),\n",
       " ('Place', 'string')]"
      ]
     },
     "execution_count": 24,
     "metadata": {},
     "output_type": "execute_result"
    }
   ],
   "source": [
    "axio = axio_raw.select('Timestamp', 'Account Type', 'Amount', 'DR/CR','Category', 'Place').withColumnRenamed('Account Type', 'Account').withColumnRenamed('DR/CR', 'DR_CR')\n",
    "axio.dtypes"
   ]
  },
  {
   "cell_type": "code",
   "execution_count": 25,
   "metadata": {
    "application/vnd.databricks.v1+cell": {
     "cellMetadata": {
      "byteLimit": 2048000,
      "rowLimit": 10000
     },
     "inputWidgets": {},
     "nuid": "1ca77a82-1c9b-4560-8e52-9738dadceced",
     "showTitle": false,
     "title": ""
    }
   },
   "outputs": [
    {
     "name": "stdout",
     "output_type": "stream",
     "text": [
      "+-------------------+-----------------+------+-----+----------------+--------------------+\n",
      "|          Timestamp|          Account|Amount|DR_CR|        Category|               Place|\n",
      "+-------------------+-----------------+------+-----+----------------+--------------------+\n",
      "|2021-06-13 15:11:00|   BANK-AXIS-7057|545000|   DR|        TRANSFER|         NET BANKING|\n",
      "|2022-10-30 16:27:00|CREDIT-ICICI-7008|173956|   DR|      \\U0001f4da|          RAZ*UPGRAD|\n",
      "|2022-01-31 14:32:00|   BANK-AXIS-7057|168500|   CR|ACCOUNT TRANSFER|             JAI SIR|\n",
      "|2022-01-31 13:36:00|  BANK-ICICI-6838|168500|   DR|        TRANSFER|         NET BANKING|\n",
      "|2022-09-16 07:08:00|  BANK-ICICI-6838|122960|   CR|          CREDIT|              CREDIT|\n",
      "|2022-08-24 19:38:00|   BANK-AXIS-7057|121634|   CR| COMPANY BENFITS|        FISERV INDIA|\n",
      "|2021-06-01 13:47:00|   BANK-AXIS-7057|104500|   DR|        TRANSFER|EASY/MAX LIFE INS...|\n",
      "|2022-11-15 10:54:00|  BANK-ICICI-6838|101765|   CR|          CREDIT|             BLOCPAL|\n",
      "|2022-01-22 14:52:00|   BANK-AXIS-7057|100000|   CR|ACCOUNT TRANSFER|           PARV SIRO|\n",
      "|2021-07-17 17:04:00|  BANK-ICICI-6838|100000|   DR|        TRANSFER|         NET BANKING|\n",
      "|2022-01-22 14:31:00|  BANK-ICICI-6838|100000|   DR|        TRANSFER|         PARV SIROHI|\n",
      "|2022-12-30 13:42:00|  BANK-ICICI-6838|100000|   CR|          CREDIT|              CREDIT|\n",
      "|2023-02-03 13:51:00|  BANK-ICICI-6838|100000|   CR|          CREDIT|              CREDIT|\n",
      "|2022-09-24 09:05:00|CREDIT-ICICI-7008| 77719|   DR|        SHOPPING|            FLIPKART|\n",
      "|2022-05-31 11:21:00|  BANK-ICICI-6838| 64849|   CR|          SALARY|        FISERV INDIA|\n",
      "|2021-08-31 11:13:00|  BANK-ICICI-6838| 64065|   CR|          SALARY|        FISERV INDIA|\n",
      "|2022-04-29 12:19:00|  BANK-ICICI-6838| 56578|   CR|          SALARY|        FISERV INDIA|\n",
      "|2022-03-31 15:06:00|  BANK-ICICI-6838| 55731|   CR|          SALARY|        FISERV INDIA|\n",
      "|2022-06-30 13:08:00|  BANK-ICICI-6838| 55659|   CR|          SALARY|        FISERV INDIA|\n",
      "|2021-09-30 11:16:00|  BANK-ICICI-6838| 54516|   CR|          SALARY|        FISERV INDIA|\n",
      "|2023-02-05 12:59:00|  BANK-ICICI-6838| 54344|   DR|           BILLS|           CREDCLUB1|\n",
      "|2022-01-31 12:03:00|  BANK-ICICI-6838| 52451|   CR|          SALARY|        FISERV INDIA|\n",
      "|2022-02-28 16:10:00|  BANK-ICICI-6838| 52210|   CR|          SALARY|        FISERV INDIA|\n",
      "|2022-04-03 11:37:00|  BANK-ICICI-6838| 52137|   DR|           BILLS|                CRED|\n",
      "|2022-10-31 13:28:00|  BANK-ICICI-6838| 52000|   CR|          CREDIT|              CREDIT|\n",
      "|2021-10-29 11:15:00|  BANK-ICICI-6838| 51876|   CR|          SALARY|        FISERV INDIA|\n",
      "|2021-12-31 07:04:00|  BANK-ICICI-6838| 51182|   CR|          SALARY|        FISERV INDIA|\n",
      "|2021-11-30 13:59:00|  BANK-ICICI-6838| 50794|   CR|          SALARY|        FISERV INDIA|\n",
      "|2022-01-27 12:04:00|   BANK-AXIS-7057| 50000|   DR|        TRANSFER|           JAI SIROH|\n",
      "|2022-01-27 12:04:00|  BANK-ICICI-6838| 50000|   CR|ACCOUNT TRANSFER|          JAI SIROHI|\n",
      "+-------------------+-----------------+------+-----+----------------+--------------------+\n",
      "only showing top 30 rows\n",
      "\n"
     ]
    }
   ],
   "source": [
    "axio.show(30)"
   ]
  },
  {
   "cell_type": "code",
   "execution_count": 26,
   "metadata": {
    "application/vnd.databricks.v1+cell": {
     "cellMetadata": {
      "byteLimit": 2048000,
      "rowLimit": 10000
     },
     "inputWidgets": {},
     "nuid": "8a924642-7c10-424c-ba79-d3939105c29f",
     "showTitle": false,
     "title": ""
    }
   },
   "outputs": [],
   "source": [
    "axio = axio\\\n",
    ".withColumn('Account Type', split(axio.Account, '-')[0])\\\n",
    ".withColumn('Bank', split(axio.Account, '-')[1])\\\n",
    ".withColumn('LFD', split(axio.Account, '-')[2])\\\n",
    ".filter(axio.Amount>99)\\\n",
    ".select('Timestamp', 'Amount', 'Account Type', 'Bank', 'LFD', 'Category', 'Place', 'Account','DR_CR')"
   ]
  },
  {
   "cell_type": "code",
   "execution_count": 27,
   "metadata": {
    "application/vnd.databricks.v1+cell": {
     "cellMetadata": {
      "byteLimit": 2048000,
      "rowLimit": 10000
     },
     "inputWidgets": {},
     "nuid": "a5770a70-accc-4710-8ebe-aeb35a4a50e0",
     "showTitle": false,
     "title": ""
    }
   },
   "outputs": [
    {
     "name": "stdout",
     "output_type": "stream",
     "text": [
      "+-------------------+------+------------+-----+----+----------------+--------------------+-----------------+-----+\n",
      "|          Timestamp|Amount|Account Type| Bank| LFD|        Category|               Place|          Account|DR_CR|\n",
      "+-------------------+------+------------+-----+----+----------------+--------------------+-----------------+-----+\n",
      "|2021-06-13 15:11:00|545000|        BANK| AXIS|7057|        TRANSFER|         NET BANKING|   BANK-AXIS-7057|   DR|\n",
      "|2022-10-30 16:27:00|173956|      CREDIT|ICICI|7008|      \\U0001f4da|          RAZ*UPGRAD|CREDIT-ICICI-7008|   DR|\n",
      "|2022-01-31 14:32:00|168500|        BANK| AXIS|7057|ACCOUNT TRANSFER|             JAI SIR|   BANK-AXIS-7057|   CR|\n",
      "|2022-01-31 13:36:00|168500|        BANK|ICICI|6838|        TRANSFER|         NET BANKING|  BANK-ICICI-6838|   DR|\n",
      "|2022-09-16 07:08:00|122960|        BANK|ICICI|6838|          CREDIT|              CREDIT|  BANK-ICICI-6838|   CR|\n",
      "|2022-08-24 19:38:00|121634|        BANK| AXIS|7057| COMPANY BENFITS|        FISERV INDIA|   BANK-AXIS-7057|   CR|\n",
      "|2021-06-01 13:47:00|104500|        BANK| AXIS|7057|        TRANSFER|EASY/MAX LIFE INS...|   BANK-AXIS-7057|   DR|\n",
      "|2022-11-15 10:54:00|101765|        BANK|ICICI|6838|          CREDIT|             BLOCPAL|  BANK-ICICI-6838|   CR|\n",
      "|2022-01-22 14:52:00|100000|        BANK| AXIS|7057|ACCOUNT TRANSFER|           PARV SIRO|   BANK-AXIS-7057|   CR|\n",
      "|2021-07-17 17:04:00|100000|        BANK|ICICI|6838|        TRANSFER|         NET BANKING|  BANK-ICICI-6838|   DR|\n",
      "|2022-01-22 14:31:00|100000|        BANK|ICICI|6838|        TRANSFER|         PARV SIROHI|  BANK-ICICI-6838|   DR|\n",
      "|2022-12-30 13:42:00|100000|        BANK|ICICI|6838|          CREDIT|              CREDIT|  BANK-ICICI-6838|   CR|\n",
      "|2023-02-03 13:51:00|100000|        BANK|ICICI|6838|          CREDIT|              CREDIT|  BANK-ICICI-6838|   CR|\n",
      "|2022-09-24 09:05:00| 77719|      CREDIT|ICICI|7008|        SHOPPING|            FLIPKART|CREDIT-ICICI-7008|   DR|\n",
      "|2022-05-31 11:21:00| 64849|        BANK|ICICI|6838|          SALARY|        FISERV INDIA|  BANK-ICICI-6838|   CR|\n",
      "|2021-08-31 11:13:00| 64065|        BANK|ICICI|6838|          SALARY|        FISERV INDIA|  BANK-ICICI-6838|   CR|\n",
      "|2022-04-29 12:19:00| 56578|        BANK|ICICI|6838|          SALARY|        FISERV INDIA|  BANK-ICICI-6838|   CR|\n",
      "|2022-03-31 15:06:00| 55731|        BANK|ICICI|6838|          SALARY|        FISERV INDIA|  BANK-ICICI-6838|   CR|\n",
      "|2022-06-30 13:08:00| 55659|        BANK|ICICI|6838|          SALARY|        FISERV INDIA|  BANK-ICICI-6838|   CR|\n",
      "|2021-09-30 11:16:00| 54516|        BANK|ICICI|6838|          SALARY|        FISERV INDIA|  BANK-ICICI-6838|   CR|\n",
      "|2023-02-05 12:59:00| 54344|        BANK|ICICI|6838|           BILLS|           CREDCLUB1|  BANK-ICICI-6838|   DR|\n",
      "|2022-01-31 12:03:00| 52451|        BANK|ICICI|6838|          SALARY|        FISERV INDIA|  BANK-ICICI-6838|   CR|\n",
      "|2022-02-28 16:10:00| 52210|        BANK|ICICI|6838|          SALARY|        FISERV INDIA|  BANK-ICICI-6838|   CR|\n",
      "|2022-04-03 11:37:00| 52137|        BANK|ICICI|6838|           BILLS|                CRED|  BANK-ICICI-6838|   DR|\n",
      "|2022-10-31 13:28:00| 52000|        BANK|ICICI|6838|          CREDIT|              CREDIT|  BANK-ICICI-6838|   CR|\n",
      "|2021-10-29 11:15:00| 51876|        BANK|ICICI|6838|          SALARY|        FISERV INDIA|  BANK-ICICI-6838|   CR|\n",
      "|2021-12-31 07:04:00| 51182|        BANK|ICICI|6838|          SALARY|        FISERV INDIA|  BANK-ICICI-6838|   CR|\n",
      "|2021-11-30 13:59:00| 50794|        BANK|ICICI|6838|          SALARY|        FISERV INDIA|  BANK-ICICI-6838|   CR|\n",
      "|2022-01-27 12:04:00| 50000|        BANK| AXIS|7057|        TRANSFER|           JAI SIROH|   BANK-AXIS-7057|   DR|\n",
      "|2022-01-27 12:04:00| 50000|        BANK|ICICI|6838|ACCOUNT TRANSFER|          JAI SIROHI|  BANK-ICICI-6838|   CR|\n",
      "+-------------------+------+------------+-----+----+----------------+--------------------+-----------------+-----+\n",
      "only showing top 30 rows\n",
      "\n"
     ]
    }
   ],
   "source": [
    "axio.show(30)"
   ]
  },
  {
   "cell_type": "code",
   "execution_count": 16,
   "metadata": {},
   "outputs": [],
   "source": [
    "months = ['s', 'January', 'February', 'March', 'April', 'May', 'June', 'July', 'August', 'September', 'October', 'November', 'December']"
   ]
  },
  {
   "cell_type": "code",
   "execution_count": 17,
   "metadata": {},
   "outputs": [],
   "source": [
    "axio = axio.withColumn('DAY', dayofmonth('Timestamp'))\\\n",
    "    .withColumn('MONTH', date_format(col('Timestamp'), 'MMMM'))\\\n",
    "    .withColumn('YEAR', year('Timestamp'))"
   ]
  },
  {
   "cell_type": "code",
   "execution_count": 45,
   "metadata": {},
   "outputs": [
    {
     "name": "stdout",
     "output_type": "stream",
     "text": [
      "+-----------+\n",
      "|sum(Amount)|\n",
      "+-----------+\n",
      "|   12837882|\n",
      "+-----------+\n",
      "\n"
     ]
    }
   ],
   "source": [
    "axio.agg(sum('Amount')).show()"
   ]
  },
  {
   "cell_type": "code",
   "execution_count": 47,
   "metadata": {},
   "outputs": [
    {
     "name": "stdout",
     "output_type": "stream",
     "text": [
      "+-------------------+------+------------+-----+----+---------------+------------+-----------------+-----+\n",
      "|          Timestamp|Amount|Account Type| Bank| LFD|       Category|       Place|          Account|DR_CR|\n",
      "+-------------------+------+------------+-----+----+---------------+------------+-----------------+-----+\n",
      "|2022-10-30 16:27:00|173956|      CREDIT|ICICI|7008|     \\U0001f4da|  RAZ*UPGRAD|CREDIT-ICICI-7008|   DR|\n",
      "|2022-09-16 07:08:00|122960|        BANK|ICICI|6838|         CREDIT|      CREDIT|  BANK-ICICI-6838|   CR|\n",
      "|2022-08-24 19:38:00|121634|        BANK| AXIS|7057|COMPANY BENFITS|FISERV INDIA|   BANK-AXIS-7057|   CR|\n",
      "|2022-11-15 10:54:00|101765|        BANK|ICICI|6838|         CREDIT|     BLOCPAL|  BANK-ICICI-6838|   CR|\n",
      "|2022-12-30 13:42:00|100000|        BANK|ICICI|6838|         CREDIT|      CREDIT|  BANK-ICICI-6838|   CR|\n",
      "|2023-02-03 13:51:00|100000|        BANK|ICICI|6838|         CREDIT|      CREDIT|  BANK-ICICI-6838|   CR|\n",
      "|2022-09-24 09:05:00| 77719|      CREDIT|ICICI|7008|       SHOPPING|    FLIPKART|CREDIT-ICICI-7008|   DR|\n",
      "|2022-05-31 11:21:00| 64849|        BANK|ICICI|6838|         SALARY|FISERV INDIA|  BANK-ICICI-6838|   CR|\n",
      "|2021-08-31 11:13:00| 64065|        BANK|ICICI|6838|         SALARY|FISERV INDIA|  BANK-ICICI-6838|   CR|\n",
      "|2022-04-29 12:19:00| 56578|        BANK|ICICI|6838|         SALARY|FISERV INDIA|  BANK-ICICI-6838|   CR|\n",
      "|2022-03-31 15:06:00| 55731|        BANK|ICICI|6838|         SALARY|FISERV INDIA|  BANK-ICICI-6838|   CR|\n",
      "|2022-06-30 13:08:00| 55659|        BANK|ICICI|6838|         SALARY|FISERV INDIA|  BANK-ICICI-6838|   CR|\n",
      "|2021-09-30 11:16:00| 54516|        BANK|ICICI|6838|         SALARY|FISERV INDIA|  BANK-ICICI-6838|   CR|\n",
      "|2023-02-05 12:59:00| 54344|        BANK|ICICI|6838|          BILLS|   CREDCLUB1|  BANK-ICICI-6838|   DR|\n",
      "|2022-01-31 12:03:00| 52451|        BANK|ICICI|6838|         SALARY|FISERV INDIA|  BANK-ICICI-6838|   CR|\n",
      "|2022-02-28 16:10:00| 52210|        BANK|ICICI|6838|         SALARY|FISERV INDIA|  BANK-ICICI-6838|   CR|\n",
      "|2022-04-03 11:37:00| 52137|        BANK|ICICI|6838|          BILLS|        CRED|  BANK-ICICI-6838|   DR|\n",
      "|2022-10-31 13:28:00| 52000|        BANK|ICICI|6838|         CREDIT|      CREDIT|  BANK-ICICI-6838|   CR|\n",
      "|2021-10-29 11:15:00| 51876|        BANK|ICICI|6838|         SALARY|FISERV INDIA|  BANK-ICICI-6838|   CR|\n",
      "|2021-12-31 07:04:00| 51182|        BANK|ICICI|6838|         SALARY|FISERV INDIA|  BANK-ICICI-6838|   CR|\n",
      "+-------------------+------+------------+-----+----+---------------+------------+-----------------+-----+\n",
      "only showing top 20 rows\n",
      "\n"
     ]
    }
   ],
   "source": [
    "axio = axio.filter( ~(axio['Category'].contains('TRANSFER')) )\n",
    "axio.show()"
   ]
  },
  {
   "cell_type": "code",
   "execution_count": 54,
   "metadata": {},
   "outputs": [
    {
     "name": "stdout",
     "output_type": "stream",
     "text": [
      "+-------------------+------+------------+-----+----+---------------+------------+-----------------+-----+\n",
      "|          Timestamp|Amount|Account Type| Bank| LFD|       Category|       Place|          Account|DR_CR|\n",
      "+-------------------+------+------------+-----+----+---------------+------------+-----------------+-----+\n",
      "|2022-10-30 16:27:00|173956|      CREDIT|ICICI|7008|           MISC|  RAZ*UPGRAD|CREDIT-ICICI-7008|   DR|\n",
      "|2022-09-16 07:08:00|122960|        BANK|ICICI|6838|         CREDIT|      CREDIT|  BANK-ICICI-6838|   CR|\n",
      "|2022-08-24 19:38:00|121634|        BANK| AXIS|7057|COMPANY BENFITS|FISERV INDIA|   BANK-AXIS-7057|   CR|\n",
      "|2022-11-15 10:54:00|101765|        BANK|ICICI|6838|         CREDIT|     BLOCPAL|  BANK-ICICI-6838|   CR|\n",
      "|2022-12-30 13:42:00|100000|        BANK|ICICI|6838|         CREDIT|      CREDIT|  BANK-ICICI-6838|   CR|\n",
      "|2023-02-03 13:51:00|100000|        BANK|ICICI|6838|         CREDIT|      CREDIT|  BANK-ICICI-6838|   CR|\n",
      "|2022-09-24 09:05:00| 77719|      CREDIT|ICICI|7008|       SHOPPING|    FLIPKART|CREDIT-ICICI-7008|   DR|\n",
      "|2022-05-31 11:21:00| 64849|        BANK|ICICI|6838|         SALARY|FISERV INDIA|  BANK-ICICI-6838|   CR|\n",
      "|2021-08-31 11:13:00| 64065|        BANK|ICICI|6838|         SALARY|FISERV INDIA|  BANK-ICICI-6838|   CR|\n",
      "|2022-04-29 12:19:00| 56578|        BANK|ICICI|6838|         SALARY|FISERV INDIA|  BANK-ICICI-6838|   CR|\n",
      "|2022-03-31 15:06:00| 55731|        BANK|ICICI|6838|         SALARY|FISERV INDIA|  BANK-ICICI-6838|   CR|\n",
      "|2022-06-30 13:08:00| 55659|        BANK|ICICI|6838|         SALARY|FISERV INDIA|  BANK-ICICI-6838|   CR|\n",
      "|2021-09-30 11:16:00| 54516|        BANK|ICICI|6838|         SALARY|FISERV INDIA|  BANK-ICICI-6838|   CR|\n",
      "|2023-02-05 12:59:00| 54344|        BANK|ICICI|6838|          BILLS|   CREDCLUB1|  BANK-ICICI-6838|   DR|\n",
      "|2022-01-31 12:03:00| 52451|        BANK|ICICI|6838|         SALARY|FISERV INDIA|  BANK-ICICI-6838|   CR|\n",
      "|2022-02-28 16:10:00| 52210|        BANK|ICICI|6838|         SALARY|FISERV INDIA|  BANK-ICICI-6838|   CR|\n",
      "|2022-04-03 11:37:00| 52137|        BANK|ICICI|6838|          BILLS|        CRED|  BANK-ICICI-6838|   DR|\n",
      "|2022-10-31 13:28:00| 52000|        BANK|ICICI|6838|         CREDIT|      CREDIT|  BANK-ICICI-6838|   CR|\n",
      "|2021-10-29 11:15:00| 51876|        BANK|ICICI|6838|         SALARY|FISERV INDIA|  BANK-ICICI-6838|   CR|\n",
      "|2021-12-31 07:04:00| 51182|        BANK|ICICI|6838|         SALARY|FISERV INDIA|  BANK-ICICI-6838|   CR|\n",
      "+-------------------+------+------------+-----+----+---------------+------------+-----------------+-----+\n",
      "only showing top 20 rows\n",
      "\n"
     ]
    }
   ],
   "source": [
    "# axio = axio.withColumn('Category',  when( axio['CATEGORY'].contains('\\\\'), 'MISC' ).otherwise(axio['CATEGORY']) )\n",
    "axio = axio.withColumn('Category',  when( (axio['CATEGORY'] == 'UNKNOWN') | (axio['CATEGORY'] == 'OTHER'), 'MISC' )\\\n",
    "                            .otherwise(axio['CATEGORY']) )\n",
    "axio.show()"
   ]
  },
  {
   "cell_type": "code",
   "execution_count": 66,
   "metadata": {},
   "outputs": [
    {
     "name": "stdout",
     "output_type": "stream",
     "text": [
      "+-------------+------------+\n",
      "|     CATEGORY|Total Amount|\n",
      "+-------------+------------+\n",
      "|        BILLS|     1131651|\n",
      "|         MISC|      915316|\n",
      "|     SHOPPING|      732094|\n",
      "|FOOD & DRINKS|      207586|\n",
      "|ENTERTAINMENT|      157901|\n",
      "|       TRAVEL|      146645|\n",
      "|   INVESTMENT|      131459|\n",
      "|    GROCERIES|      110044|\n",
      "|       HEALTH|       58728|\n",
      "|          HEX|       57487|\n",
      "|          EMI|       52202|\n",
      "|         FUEL|       43142|\n",
      "|   SETTLEMENT|       20567|\n",
      "+-------------+------------+\n",
      "\n"
     ]
    }
   ],
   "source": [
    "axio.filter( axio['DR_CR'] == 'DR' ).groupBy('CATEGORY').agg(sum('AMOUNT').alias('Total Amount')).sort(col('Total Amount').desc()).show()"
   ]
  },
  {
   "cell_type": "code",
   "execution_count": 56,
   "metadata": {},
   "outputs": [
    {
     "name": "stderr",
     "output_type": "stream",
     "text": [
      "W:\\Code\\PySpark\\env\\lib\\site-packages\\pyspark\\sql\\pandas\\conversion.py:194: FutureWarning: Passing unit-less datetime64 dtype to .astype is deprecated and will raise in a future version. Pass 'datetime64[ns]' instead\n",
      "  series = series.astype(t, copy=False)\n"
     ]
    }
   ],
   "source": [
    "axio.toPandas().to_csv('AxioReport.csv')"
   ]
  },
  {
   "cell_type": "code",
   "execution_count": 74,
   "metadata": {},
   "outputs": [
    {
     "name": "stdout",
     "output_type": "stream",
     "text": [
      "+-------------------+------+------------+-----+----+------------+--------------------+-----------------+-----+\n",
      "|          Timestamp|Amount|Account Type| Bank| LFD|    Category|               Place|          Account|DR_CR|\n",
      "+-------------------+------+------------+-----+----+------------+--------------------+-----------------+-----+\n",
      "|2021-04-30 19:05:00| 40989|      CREDIT|ICICI|7008|BILL PAYMENT|CREDIT CARD BILL ...|CREDIT-ICICI-7008|   CR|\n",
      "|2021-08-14 09:34:00| 36482|      CREDIT| AXIS|2232|BILL PAYMENT|CREDIT CARD BILL ...| CREDIT-AXIS-2232|   CR|\n",
      "|2023-02-05 13:24:00| 32367|      CREDIT|ICICI|7008|BILL PAYMENT|CREDIT CARD BILL ...|CREDIT-ICICI-7008|   CR|\n",
      "|2023-01-05 10:06:00| 31839|      CREDIT|ICICI|7008|BILL PAYMENT|CREDIT CARD BILL ...|CREDIT-ICICI-7008|   CR|\n",
      "|2021-06-20 11:09:00| 31664|      CREDIT|ICICI|5001|BILL PAYMENT|CREDIT CARD BILL ...|CREDIT-ICICI-5001|   CR|\n",
      "|2022-11-01 16:27:00| 31303|      CREDIT| AXIS|6891|BILL PAYMENT|CREDIT CARD BILL ...| CREDIT-AXIS-6891|   CR|\n",
      "|2022-05-09 04:56:00| 27429|      CREDIT| AXIS|6891|BILL PAYMENT|CREDIT CARD BILL ...| CREDIT-AXIS-6891|   CR|\n",
      "|2022-09-03 16:30:00| 26946|      CREDIT| AXIS|6891|BILL PAYMENT|CREDIT CARD BILL ...| CREDIT-AXIS-6891|   CR|\n",
      "|2021-09-08 09:34:00| 26686|      CREDIT| AXIS|2232|BILL PAYMENT|CREDIT CARD BILL ...| CREDIT-AXIS-2232|   CR|\n",
      "|2022-10-06 22:20:00| 25482|      CREDIT| AXIS|6891|BILL PAYMENT|CREDIT CARD BILL ...| CREDIT-AXIS-6891|   CR|\n",
      "|2022-07-03 12:34:00| 23279|      CREDIT| AXIS|6891|BILL PAYMENT|CREDIT CARD BILL ...| CREDIT-AXIS-6891|   CR|\n",
      "|2022-09-03 20:08:00| 17282|      CREDIT| AXIS|2232|BILL PAYMENT|CREDIT CARD BILL ...| CREDIT-AXIS-2232|   CR|\n",
      "|2021-10-06 16:27:00| 16609|      CREDIT|ICICI|7008|BILL PAYMENT|CREDIT CARD BILL ...|CREDIT-ICICI-7008|   CR|\n",
      "|2022-05-09 07:38:00| 16430|      CREDIT|ICICI|5001|BILL PAYMENT|CREDIT CARD BILL ...|CREDIT-ICICI-5001|   CR|\n",
      "|2022-11-01 18:03:00| 15773|      CREDIT| AXIS|2232|BILL PAYMENT|CREDIT CARD BILL ...| CREDIT-AXIS-2232|   CR|\n",
      "|2022-08-08 06:01:00| 15123|      CREDIT|ICICI|5001|BILL PAYMENT|CREDIT CARD BILL ...|CREDIT-ICICI-5001|   CR|\n",
      "|2021-12-01 06:32:00| 14047|      CREDIT|ICICI|7008|BILL PAYMENT|CREDIT CARD BILL ...|CREDIT-ICICI-7008|   CR|\n",
      "|2022-06-02 12:18:00| 13994|      CREDIT| AXIS|6891|BILL PAYMENT|CREDIT CARD BILL ...| CREDIT-AXIS-6891|   CR|\n",
      "|2022-10-06 22:21:00| 13395|      CREDIT| AXIS|2232|BILL PAYMENT|CREDIT CARD BILL ...| CREDIT-AXIS-2232|   CR|\n",
      "|2022-12-09 02:00:00| 13091|      CREDIT| AXIS|2232|BILL PAYMENT|CREDIT CARD BILL ...| CREDIT-AXIS-2232|   CR|\n",
      "|2022-09-06 10:24:00| 11651|      CREDIT|ICICI|5001|BILL PAYMENT|CREDIT CARD BILL ...|CREDIT-ICICI-5001|   CR|\n",
      "|2022-10-07 07:30:00| 11583|      CREDIT|ICICI|7008|BILL PAYMENT|CREDIT CARD BILL ...|CREDIT-ICICI-7008|   CR|\n",
      "|2022-10-31 15:41:00|  9545|      CREDIT|ICICI|7008|BILL PAYMENT|CREDIT CARD BILL ...|CREDIT-ICICI-7008|   CR|\n",
      "|2022-12-10 21:44:00|  9061|      CREDIT| AXIS|2232|BILL PAYMENT|CREDIT CARD BILL ...| CREDIT-AXIS-2232|   CR|\n",
      "|2022-04-03 13:05:00|  8642|      CREDIT|ICICI|5001|BILL PAYMENT|CREDIT CARD BILL ...|CREDIT-ICICI-5001|   CR|\n",
      "|2021-12-21 12:14:00|  8341|      CREDIT|ICICI|7008|BILL PAYMENT|CREDIT CARD BILL ...|CREDIT-ICICI-7008|   CR|\n",
      "|2022-02-04 18:59:00|  8338|      CREDIT|ICICI|7008|BILL PAYMENT|        BILL PAYMENT|CREDIT-ICICI-7008|   CR|\n",
      "|2021-05-23 07:55:00|  7783|      CREDIT|ICICI|5001|BILL PAYMENT|CREDIT CARD BILL ...|CREDIT-ICICI-5001|   CR|\n",
      "|2019-12-08 20:39:00|  7440|      CREDIT|ICICI|7008|BILL PAYMENT|CREDIT CARD BILL ...|CREDIT-ICICI-7008|   CR|\n",
      "|2022-05-09 07:37:00|  6185|      CREDIT|ICICI|7008|BILL PAYMENT|CREDIT CARD BILL ...|CREDIT-ICICI-7008|   CR|\n",
      "|2022-06-02 15:19:00|  6076|      CREDIT|ICICI|5001|BILL PAYMENT|CREDIT CARD BILL ...|CREDIT-ICICI-5001|   CR|\n",
      "|2021-09-08 10:37:00|  5550|      CREDIT|ICICI|7008|BILL PAYMENT|CREDIT CARD BILL ...|CREDIT-ICICI-7008|   CR|\n",
      "|2023-02-05 13:02:00|  5361|      CREDIT| AXIS|2232|BILL PAYMENT|CREDIT CARD BILL ...| CREDIT-AXIS-2232|   CR|\n",
      "|2021-10-06 02:52:00|  4637|      CREDIT| AXIS|2232|BILL PAYMENT|CREDIT CARD BILL ...| CREDIT-AXIS-2232|   CR|\n",
      "|2022-07-04 06:20:00|  4419|      CREDIT|ICICI|5001|BILL PAYMENT|CREDIT CARD BILL ...|CREDIT-ICICI-5001|   CR|\n",
      "|2021-03-10 20:31:00|  4000|      CREDIT|ICICI|7008|BILL PAYMENT|CREDIT CARD BILL ...|CREDIT-ICICI-7008|   CR|\n",
      "|2022-02-04 13:21:00|  3913|      CREDIT| AXIS|2232|BILL PAYMENT|        BILL PAYMENT| CREDIT-AXIS-2232|   CR|\n",
      "|2022-08-08 06:01:00|  3864|      CREDIT|ICICI|7008|BILL PAYMENT|CREDIT CARD BILL ...|CREDIT-ICICI-7008|   CR|\n",
      "|2022-03-02 12:01:00|  3607|      CREDIT|ICICI|5001|BILL PAYMENT|CREDIT CARD BILL ...|CREDIT-ICICI-5001|   CR|\n",
      "|2021-04-01 17:57:00|  3559|      CREDIT|ICICI|7008|BILL PAYMENT|CREDIT CARD BILL ...|CREDIT-ICICI-7008|   CR|\n",
      "|2022-07-04 06:21:00|  3260|      CREDIT|ICICI|7008|BILL PAYMENT|CREDIT CARD BILL ...|CREDIT-ICICI-7008|   CR|\n",
      "|2021-08-14 09:52:00|  3083|      CREDIT|ICICI|5001|BILL PAYMENT|CREDIT CARD BILL ...|CREDIT-ICICI-5001|   CR|\n",
      "|2022-01-19 07:17:00|  3006|      CREDIT|ICICI|5001|BILL PAYMENT|        BILL PAYMENT|CREDIT-ICICI-5001|   CR|\n",
      "|2019-12-02 12:17:00|  3000|      CREDIT|ICICI|7008|BILL PAYMENT|CREDIT CARD BILL ...|CREDIT-ICICI-7008|   CR|\n",
      "|2022-03-01 15:32:00|  2937|      CREDIT| AXIS|2232|BILL PAYMENT|CREDIT CARD BILL ...| CREDIT-AXIS-2232|   CR|\n",
      "|2023-01-05 07:42:00|  2845|      CREDIT|ICICI|5001|BILL PAYMENT|CREDIT CARD BILL ...|CREDIT-ICICI-5001|   CR|\n",
      "|2022-09-03 21:13:00|  2559|      CREDIT|SIMPL|8676|BILL PAYMENT|  SIMPL BILL PAYMENT|CREDIT-SIMPL-8676|   CR|\n",
      "|2022-12-08 21:40:00|  2537|      CREDIT| AXIS|6891|BILL PAYMENT|CREDIT CARD BILL ...| CREDIT-AXIS-6891|   CR|\n",
      "|2023-02-05 13:25:00|  2478|      CREDIT|ICICI|5001|BILL PAYMENT|CREDIT CARD BILL ...|CREDIT-ICICI-5001|   CR|\n",
      "|2019-08-28 17:04:00|  2252|      CREDIT|ICICI|7008|BILL PAYMENT|CREDIT CARD BILL ...|CREDIT-ICICI-7008|   CR|\n",
      "+-------------------+------+------------+-----+----+------------+--------------------+-----------------+-----+\n",
      "only showing top 50 rows\n",
      "\n"
     ]
    }
   ],
   "source": [
    "axio.filter(axio['Category'].contains('PAYMENT')).show(50) # .groupBy('PLACE').agg(count('Place')).show()"
   ]
  },
  {
   "cell_type": "code",
   "execution_count": 0,
   "metadata": {
    "application/vnd.databricks.v1+cell": {
     "cellMetadata": {
      "byteLimit": 2048000,
      "rowLimit": 10000
     },
     "inputWidgets": {},
     "nuid": "54e0917f-1e3b-4358-8781-72a6ce2f406e",
     "showTitle": false,
     "title": ""
    }
   },
   "outputs": [],
   "source": [
    "# Save reports to sql db\n",
    "from pyspark.sql import SQLContext\n",
    "from pyspark.sql import SparkSession\n",
    "\n",
    "sc = SparkSession.builder.getOrCreate()\n",
    "sqlContext = SQLContext(sc)\n",
    "dbpassword = '#1Jaisirohi'\n",
    "dbserver = 'sqlserver0797'\n",
    "dbname = 'sqldb0797'\n",
    "dbuser = 'CloudSAf58cebb8'\n",
    "sql_url = 'jdbc:sqlserver://' + dbserver + '.database.windows.net:1433;database=' + dbname + ';user='+ dbuser + '@' + dbserver + ';password='+ dbpassword + ';encrypt=true;trustServerCertificate=false;hostNameInCertificate=*.database.windows.net;loginTimeout=30;'\n"
   ]
  },
  {
   "cell_type": "code",
   "execution_count": 121,
   "metadata": {
    "application/vnd.databricks.v1+cell": {
     "cellMetadata": {
      "byteLimit": 2048000,
      "rowLimit": 10000
     },
     "inputWidgets": {},
     "nuid": "8cf20cf4-6cfc-47f3-8f54-c252d79f1276",
     "showTitle": false,
     "title": ""
    }
   },
   "outputs": [],
   "source": [
    "schema = 'axio'"
   ]
  },
  {
   "cell_type": "code",
   "execution_count": 67,
   "metadata": {
    "application/vnd.databricks.v1+cell": {
     "cellMetadata": {
      "byteLimit": 2048000,
      "rowLimit": 10000
     },
     "inputWidgets": {},
     "nuid": "d8b36c19-5887-4dd6-ac7d-a8e236577a83",
     "showTitle": false,
     "title": ""
    }
   },
   "outputs": [],
   "source": [
    "def writeToSQL(y):\n",
    "    filename = 'report/' + 'axio_report_'+str(y)[2:]+'.csv'\n",
    "    axioYY = axio.filter( year(axio.Timestamp)==y )\n",
    "    try:\n",
    "        axioYY.toPandas().to_csv(filename)\n",
    "    except Exception as e:\n",
    "        print(e)\n",
    "        return 0\n",
    "    else:\n",
    "        print(f'File {filename} has successfully been created !')"
   ]
  },
  {
   "cell_type": "code",
   "execution_count": 68,
   "metadata": {
    "application/vnd.databricks.v1+cell": {
     "cellMetadata": {
      "byteLimit": 2048000,
      "rowLimit": 10000
     },
     "inputWidgets": {},
     "nuid": "eabc2c80-416e-465c-826c-f421dcaca8cb",
     "showTitle": false,
     "title": ""
    }
   },
   "outputs": [
    {
     "name": "stderr",
     "output_type": "stream",
     "text": [
      "W:\\Code\\PySpark\\env\\lib\\site-packages\\pyspark\\sql\\pandas\\conversion.py:194: FutureWarning: Passing unit-less datetime64 dtype to .astype is deprecated and will raise in a future version. Pass 'datetime64[ns]' instead\n",
      "  series = series.astype(t, copy=False)\n"
     ]
    },
    {
     "name": "stdout",
     "output_type": "stream",
     "text": [
      "File report/axio_report_19.csv has successfully been created !\n"
     ]
    },
    {
     "name": "stderr",
     "output_type": "stream",
     "text": [
      "W:\\Code\\PySpark\\env\\lib\\site-packages\\pyspark\\sql\\pandas\\conversion.py:194: FutureWarning: Passing unit-less datetime64 dtype to .astype is deprecated and will raise in a future version. Pass 'datetime64[ns]' instead\n",
      "  series = series.astype(t, copy=False)\n"
     ]
    },
    {
     "name": "stdout",
     "output_type": "stream",
     "text": [
      "File report/axio_report_20.csv has successfully been created !\n"
     ]
    },
    {
     "name": "stderr",
     "output_type": "stream",
     "text": [
      "W:\\Code\\PySpark\\env\\lib\\site-packages\\pyspark\\sql\\pandas\\conversion.py:194: FutureWarning: Passing unit-less datetime64 dtype to .astype is deprecated and will raise in a future version. Pass 'datetime64[ns]' instead\n",
      "  series = series.astype(t, copy=False)\n"
     ]
    },
    {
     "name": "stdout",
     "output_type": "stream",
     "text": [
      "File report/axio_report_21.csv has successfully been created !\n"
     ]
    },
    {
     "name": "stderr",
     "output_type": "stream",
     "text": [
      "W:\\Code\\PySpark\\env\\lib\\site-packages\\pyspark\\sql\\pandas\\conversion.py:194: FutureWarning: Passing unit-less datetime64 dtype to .astype is deprecated and will raise in a future version. Pass 'datetime64[ns]' instead\n",
      "  series = series.astype(t, copy=False)\n"
     ]
    },
    {
     "name": "stdout",
     "output_type": "stream",
     "text": [
      "File report/axio_report_22.csv has successfully been created !\n",
      "File report/axio_report_23.csv has successfully been created !\n"
     ]
    },
    {
     "name": "stderr",
     "output_type": "stream",
     "text": [
      "W:\\Code\\PySpark\\env\\lib\\site-packages\\pyspark\\sql\\pandas\\conversion.py:194: FutureWarning: Passing unit-less datetime64 dtype to .astype is deprecated and will raise in a future version. Pass 'datetime64[ns]' instead\n",
      "  series = series.astype(t, copy=False)\n"
     ]
    }
   ],
   "source": [
    "years = sorted([data[0] for data in axio.groupBy(year(axio.Timestamp)).count().select('year(Timestamp)').collect()])\n",
    "for i in years:\n",
    "    writeToSQL(i)"
   ]
  },
  {
   "cell_type": "code",
   "execution_count": 0,
   "metadata": {
    "application/vnd.databricks.v1+cell": {
     "cellMetadata": {
      "byteLimit": 2048000,
      "rowLimit": 10000
     },
     "inputWidgets": {},
     "nuid": "e2176e6f-361e-40c0-a525-199690d13636",
     "showTitle": false,
     "title": ""
    }
   },
   "outputs": [],
   "source": [
    "tn = 'axio.axio_report_19'\n",
    "axio19 = spark.read.jdbc(url=sql_url, table=tn)\n",
    "axio19.display()"
   ]
  },
  {
   "cell_type": "code",
   "execution_count": 0,
   "metadata": {
    "application/vnd.databricks.v1+cell": {
     "cellMetadata": {
      "byteLimit": 2048000,
      "rowLimit": 10000
     },
     "inputWidgets": {},
     "nuid": "b612b1be-99c7-4f1e-a564-cf71310f2fc2",
     "showTitle": false,
     "title": ""
    }
   },
   "outputs": [
    {
     "data": {
      "text/html": [
       "<style scoped>\n",
       "  .table-result-container {\n",
       "    max-height: 300px;\n",
       "    overflow: auto;\n",
       "  }\n",
       "  table, th, td {\n",
       "    border: 1px solid black;\n",
       "    border-collapse: collapse;\n",
       "  }\n",
       "  th, td {\n",
       "    padding: 5px;\n",
       "  }\n",
       "  th {\n",
       "    text-align: left;\n",
       "  }\n",
       "</style><div class='table-result-container'><table class='table-result'><thead style='background-color: white'><tr><th>Bank</th><th>sum(Amount)</th></tr></thead><tbody><tr><td>AXIS</td><td>502833</td></tr><tr><td>ICICI</td><td>126217</td></tr><tr><td>PAYTM</td><td>2359</td></tr></tbody></table></div>"
      ]
     },
     "metadata": {
      "application/vnd.databricks.v1+output": {
       "addedWidgets": {},
       "aggData": [],
       "aggError": "",
       "aggOverflow": false,
       "aggSchema": [],
       "aggSeriesLimitReached": false,
       "aggType": "",
       "arguments": {},
       "columnCustomDisplayInfos": {},
       "data": [
        [
         "AXIS",
         502833
        ],
        [
         "ICICI",
         126217
        ],
        [
         "PAYTM",
         2359
        ]
       ],
       "datasetInfos": [],
       "dbfsResultPath": null,
       "isJsonSchema": true,
       "metadata": {},
       "overflow": false,
       "plotOptions": {
        "customPlotOptions": {},
        "displayType": "table",
        "pivotAggregation": null,
        "pivotColumns": null,
        "xColumns": null,
        "yColumns": null
       },
       "removedWidgets": [],
       "schema": [
        {
         "metadata": "{\"scale\":0}",
         "name": "Bank",
         "type": "\"string\""
        },
        {
         "metadata": "{}",
         "name": "sum(Amount)",
         "type": "\"long\""
        }
       ],
       "type": "table"
      }
     },
     "output_type": "display_data"
    }
   ],
   "source": [
    "axio19.filter(axio19['DR_CR'] == 'DR')\\\n",
    ".groupBy('Bank')\\\n",
    ".sum('Amount')\\\n",
    ".display()"
   ]
  },
  {
   "cell_type": "code",
   "execution_count": 0,
   "metadata": {
    "application/vnd.databricks.v1+cell": {
     "cellMetadata": {
      "byteLimit": 2048000,
      "rowLimit": 10000
     },
     "inputWidgets": {},
     "nuid": "a5b91728-14f8-4eee-8b3b-30977784d672",
     "showTitle": false,
     "title": ""
    }
   },
   "outputs": [
    {
     "data": {
      "image/png": "[encoded data removed]"
     },
     "metadata": {
      "application/vnd.databricks.v1+output": {
       "addedWidgets": {},
       "arguments": {},
       "data": "data:image/png;base64,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\n",
       "datasetInfos": [],
       "metadata": {},
       "removedWidgets": [],
       "type": "image"
      }
     },
     "output_type": "display_data"
    }
   ],
   "source": [
    "# axio19_Debit = axio19.toPandas()\n",
    "palette = sns.color_palette('pastel')\n",
    "g = sns.barplot(data=axio19_Debit, x=axio19_Debit.Bank, y=axio19_Debit.Amount, palette = palette);\n",
    "# g.set(ylim= (0, 600000))\n",
    "ylabels = ['{}'.format(x) + 'L' for x in g.get_yticks()/1000]\n",
    "g.set_yticklabels(ylabels);\n",
    "plt.savefig('/dbfs/mnt/raw/test.png')"
   ]
  },
  {
   "cell_type": "code",
   "execution_count": 0,
   "metadata": {
    "application/vnd.databricks.v1+cell": {
     "cellMetadata": {
      "byteLimit": 2048000,
      "rowLimit": 10000
     },
     "inputWidgets": {},
     "nuid": "f7901d0e-f94b-4383-9339-bc399ab005ed",
     "showTitle": false,
     "title": ""
    }
   },
   "outputs": [],
   "source": [
    "axio.display()"
   ]
  },
  {
   "cell_type": "code",
   "execution_count": 0,
   "metadata": {
    "application/vnd.databricks.v1+cell": {
     "cellMetadata": {
      "byteLimit": 2048000,
      "rowLimit": 10000
     },
     "inputWidgets": {},
     "nuid": "d99ed859-9637-4ffa-93fb-53d72f619317",
     "showTitle": false,
     "title": ""
    }
   },
   "outputs": [],
   "source": [
    "axio_credits = axio.filter( (axio['Account Type']=='Credit') & (axio['DR_CR']=='DR') ).groupBy(year('timestamp')).pivot('LFD').sum('Amount').withColumnRenamed('year(timestamp)', 'Year').sort('year(timestamp)')\n",
    "axio_credits_pd = axio_credits.toPandas()\n",
    "axio_credits_pd.head(10)\n",
    "sns.lineplot(data=axio_credits_pd, y=axio_credits_pd['6891'], x=axio_credits_pd.Year, palette = 'pastel')\n",
    "sns.lineplot(data=axio_credits_pd, y=axio_credits_pd['7008'], x=axio_credits_pd.Year, palette = 'pastel')\n",
    "sns.lineplot(data=axio_credits_pd, y=axio_credits_pd['2332'], x=axio_credits_pd.Year, palette = 'pastel')\n",
    "sns.lineplot(data=axio_credits_pd, y=axio_credits_pd['8676'], x=axio_credits_pd.Year, palette = 'pastel')\n",
    "sns.lineplot(data=axio_credits_pd, y=axio_credits_pd['4135'], x=axio_credits_pd.Year, palette = 'pastel')\n",
    "# f.set(lim=(0,600000))\n",
    "# axio_credits_pd.head(5)"
   ]
  },
  {
   "cell_type": "code",
   "execution_count": 0,
   "metadata": {
    "application/vnd.databricks.v1+cell": {
     "cellMetadata": {},
     "inputWidgets": {},
     "nuid": "bf15c373-2fc8-4ae9-b756-5ef3b641ee6a",
     "showTitle": false,
     "title": ""
    }
   },
   "outputs": [],
   "source": []
  }
 ],
 "metadata": {
  "application/vnd.databricks.v1+notebook": {
   "dashboards": [
    {
     "elements": [
      {
       "dashboardResultIndex": 0,
       "elementNUID": "e2176e6f-361e-40c0-a525-199690d13636",
       "elementType": "command",
       "guid": "4186fe8c-f224-47e9-a370-b807cb6c65b3",
       "options": null,
       "position": {
        "height": 8,
        "width": 15,
        "x": 0,
        "y": 0,
        "z": null
       },
       "resultIndex": null
      }
     ],
     "globalVars": {},
     "guid": "2d702c21-6ad0-4e49-8ace-e5f2d7367961",
     "layoutOption": {
      "grid": true,
      "stack": true
     },
     "nuid": "778daed5-27d8-4977-90c6-77f359b18956",
     "origId": 2488003677588198,
     "title": "Expense report",
     "version": "DashboardViewV1",
     "width": 1024
    }
   ],
   "language": "python",
   "notebookMetadata": {
    "pythonIndentUnit": 4
   },
   "notebookName": "Personal Expense Reports",
   "notebookOrigID": 1603865307419879,
   "widgets": {}
  },
  "kernelspec": {
   "display_name": "Python 3 (ipykernel)",
   "language": "python",
   "name": "python3"
  },
  "language_info": {
   "codemirror_mode": {
    "name": "ipython",
    "version": 3
   },
   "file_extension": ".py",
   "mimetype": "text/x-python",
   "name": "python",
   "nbconvert_exporter": "python",
   "pygments_lexer": "ipython3",
   "version": "3.10.8"
  }
 },
 "nbformat": 4,
 "nbformat_minor": 1
}
